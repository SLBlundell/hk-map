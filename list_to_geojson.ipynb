{
 "cells": [
  {
   "cell_type": "code",
   "execution_count": 1,
   "metadata": {},
   "outputs": [],
   "source": [
    "from geojson import Feature, FeatureCollection, Point\n",
    "\n",
    "list = [\n",
    "    [\"616牛肉火鍋專門店\", 22.45284056585313, 22.45284056585313, \"restaurant\"],\n",
    "    [\"Wing Lai Yuen\", 22.304627697435542, 114.19068636043437, \"restaurant\"],\n",
    "    [\"塔門新漢記海鮮酒家\", 22.470819744924373, 114.35937046044698, \"restaurant\"],\n",
    "    [\"CATCH. Quarry Bay\", 22.28785594527803, 114.21167436043314, \"restaurant\"],\n",
    "    [\"Lamma Rainbow Seafood Restaurant\", 22.20444574565513, 114.13097905997124, \"restaurant\"],\n",
    "    [\"The Delhi Club\", 22.296534584708706, 114.17278170802162, \"restaurant\"],\n",
    "    [\"Sing Kee\", 22.283634100458855, 114.15473231810407, \"restaurant\"],\n",
    "    [\"Chilli Fagara\", 22.281747159662054, 114.15358254934529, \"restaurant\"],\n",
    "    [\"Man Mo Dim Sum\", 22.28552127273451, 114.14827006043299, \"restaurant\"],\n",
    "    [\"Mammy Pancake\", 22.305787723282226, 114.16972064694116, \"restaurant\"],\n",
    "    [\"What to Eat\", 22.281863400713696, 114.15476828926818, \"restaurant\"],\n",
    "    [\"Yuan is Here\", 22.2824550719515, 114.12925239472115, \"restaurant\"],\n",
    "    [\"Shugestu\", 22.284148485998987, 114.15289161040981, \"restaurant\"],\n",
    "    [\"Paradise Dynasty\", 22.2783311186, 114.18305472172696, \"restaurant\"],\n",
    "    [\"New Punjab Club\", 22.279991800983353, 114.15518686043264, \"restaurant\"],\n",
    "    [\"Mr Wong's\", 22.31849542054713, 114.16669378927081, \"restaurant\"],\n",
    "    [\"Roganic\", 22.281504800765497, 114.18236506043257, \"restaurant\"],\n",
    "    [\"Australia Dairy Company\", 22.304606914037507, 114.17054172988813, \"restaurant\"],\n",
    "    [\"Qi - House of Sichuan\", 22.276362045885854, 114.17118682113126, \"restaurant\"],\n",
    "    [\"Cornerstone\", 22.2827473556812, 114.15312002777293, \"restaurant\"],\n",
    "    [\"Kikanbo\", 22.298852477846996, 114.17393502653398, \"restaurant\"],\n",
    "    [\"NINETYs\", 22.27873153597637, 114.18541304499782, \"cafe\"],\n",
    "    [\"Urban Coffee Roaster\", 22.29739456515321, 114.17280849849604, \"cafe\"],\n",
    "    [\"Elephant Grounds\", 22.281138640860508, 114.15232958500309, \"cafe\"],\n",
    "    [\"Halfway Coffee\", 22.28474941893541, 114.14971756549622, \"cafe\"],\n",
    "    [\"Zero One Coffee & Roastery\", 22.283272939780385, 114.15447517281196, \"cafe\"],\n",
    "    [\"The Cupping Room\", 22.283117800101174, 114.15456184471084, \"cafe\"],\n",
    "    [\"Nocturne\", 22.28324537652777, 114.15314858565517, \"bar\"],\n",
    "    [\"SKYE\", 22.281477061802963, 114.18639808669559, \"bar\"],\n",
    "    [\"Social Room\", 22.283421539726177, 114.15449234255067, \"bar\"]]\n",
    "\n",
    "features = []\n",
    "for i in list:\n",
    "    features.append(Feature(geometry=Point((i[2],i[1])), properties={'description':'TBC', 'name':i[0], 'category':i[3]}))\n",
    "    \n",
    "geojson = FeatureCollection(features)\n",
    "\n",
    "\n"
   ]
  },
  {
   "cell_type": "code",
   "execution_count": 2,
   "metadata": {},
   "outputs": [],
   "source": [
    "import json\n",
    "with open('locations.json', 'w', encoding='utf-8') as f:\n",
    "    json.dump(geojson, f, ensure_ascii=False, indent=4)"
   ]
  }
 ],
 "metadata": {
  "kernelspec": {
   "display_name": "myenv",
   "language": "python",
   "name": "python3"
  },
  "language_info": {
   "codemirror_mode": {
    "name": "ipython",
    "version": 3
   },
   "file_extension": ".py",
   "mimetype": "text/x-python",
   "name": "python",
   "nbconvert_exporter": "python",
   "pygments_lexer": "ipython3",
   "version": "3.9.12"
  },
  "orig_nbformat": 4,
  "vscode": {
   "interpreter": {
    "hash": "bcf767d74aa0613621d814dbc311c100d7c513475831bdee7c609a7f5e52ccf1"
   }
  }
 },
 "nbformat": 4,
 "nbformat_minor": 2
}
